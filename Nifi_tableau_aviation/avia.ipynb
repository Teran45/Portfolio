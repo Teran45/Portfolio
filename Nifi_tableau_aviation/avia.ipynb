{
 "cells": [
  {
   "cell_type": "code",
   "execution_count": 1,
   "id": "f580da3f",
   "metadata": {},
   "outputs": [],
   "source": [
    "import findspark\n",
    "findspark.init()\n",
    "findspark.find()\n",
    "import pyspark\n",
    "from pyspark.sql import SparkSession\n",
    "from pyspark.sql.types import StructType\n",
    "from pyspark.sql.functions import desc\n",
    "from pyspark.sql.functions import countDistinct"
   ]
  },
  {
   "cell_type": "code",
   "execution_count": 2,
   "id": "0a000770",
   "metadata": {},
   "outputs": [
    {
     "name": "stderr",
     "output_type": "stream",
     "text": [
      "2022-05-26 02:41:32,250 WARN util.NativeCodeLoader: Unable to load native-hadoop library for your platform... using builtin-java classes where applicable\n",
      "Setting default log level to \"WARN\".\n",
      "To adjust logging level use sc.setLogLevel(newLevel). For SparkR, use setLogLevel(newLevel).\n",
      "2022-05-26 02:41:33,910 WARN yarn.Client: Neither spark.yarn.jars nor spark.yarn.archive is set, falling back to uploading libraries under SPARK_HOME.\n"
     ]
    }
   ],
   "source": [
    "spark_avia = SparkSession.builder.master(\"yarn\").appName(\"avia\").config(\"spark.jars\", \"/home/teran45/spark/postgresql-42.3.4.jar\").getOrCreate()"
   ]
  },
  {
   "cell_type": "code",
   "execution_count": 3,
   "id": "032e700e",
   "metadata": {},
   "outputs": [],
   "source": [
    "df = spark_avia.read \\\n",
    "    .format(\"jdbc\") \\\n",
    "    .option(\"url\", \"jdbc:postgresql://localhost:5432/dataengineering\") \\\n",
    "    .option(\"dbtable\", \"public.opensky\") \\\n",
    "    .option(\"user\", \"postgres\") \\\n",
    "    .option(\"password\", \"postgres\") \\\n",
    "    .option(\"driver\", \"org.postgresql.Driver\") \\\n",
    "    .load()"
   ]
  },
  {
   "cell_type": "code",
   "execution_count": 4,
   "id": "2e71685a",
   "metadata": {},
   "outputs": [
    {
     "name": "stdout",
     "output_type": "stream",
     "text": [
      "root\n",
      " |-- id: integer (nullable = true)\n",
      " |-- icao24: string (nullable = true)\n",
      " |-- callsign: string (nullable = true)\n",
      " |-- origin_country: string (nullable = true)\n",
      " |-- time_position: integer (nullable = true)\n",
      " |-- last_contact: integer (nullable = true)\n",
      " |-- longitude: double (nullable = true)\n",
      " |-- latitude: double (nullable = true)\n",
      " |-- baro_altitude: double (nullable = true)\n",
      " |-- on_ground: boolean (nullable = true)\n",
      " |-- velocity: double (nullable = true)\n",
      " |-- true_track: double (nullable = true)\n",
      " |-- vertical_rate: double (nullable = true)\n",
      " |-- sensors: integer (nullable = true)\n",
      " |-- geo_altitude: double (nullable = true)\n",
      " |-- squawk: string (nullable = true)\n",
      " |-- spi: boolean (nullable = true)\n",
      " |-- position_source: integer (nullable = true)\n",
      "\n"
     ]
    }
   ],
   "source": [
    "df.printSchema()"
   ]
  },
  {
   "cell_type": "code",
   "execution_count": 6,
   "id": "539eb2d7",
   "metadata": {},
   "outputs": [],
   "source": [
    "df.createOrReplaceTempView(\"EMP\")"
   ]
  },
  {
   "cell_type": "code",
   "execution_count": 7,
   "id": "a50d4119",
   "metadata": {},
   "outputs": [],
   "source": [
    "avia_c = spark_avia.sql('select origin_country, count( distinct icao24) as avia_amount from EMP group by origin_country order by avia_amount DESC')"
   ]
  },
  {
   "cell_type": "code",
   "execution_count": 31,
   "id": "bc280275",
   "metadata": {},
   "outputs": [
    {
     "name": "stderr",
     "output_type": "stream",
     "text": [
      "                                                                                \r"
     ]
    }
   ],
   "source": [
    "avia_c .coalesce(1).write.csv(\"hdfs:///user/teran45/data/avia/country\")"
   ]
  },
  {
   "cell_type": "code",
   "execution_count": 9,
   "id": "283d57b2",
   "metadata": {},
   "outputs": [
    {
     "name": "stderr",
     "output_type": "stream",
     "text": [
      "[Stage 2:==================================>                    (124 + 3) / 200]\r"
     ]
    },
    {
     "name": "stdout",
     "output_type": "stream",
     "text": [
      "+--------------------+-----------+\n",
      "|      origin_country|avia_amount|\n",
      "+--------------------+-----------+\n",
      "|       United States|      15769|\n",
      "|           Australia|       1310|\n",
      "|              Canada|       1112|\n",
      "|             Germany|       1076|\n",
      "|      United Kingdom|        943|\n",
      "|              France|        580|\n",
      "|               India|        568|\n",
      "|              Turkey|        530|\n",
      "|               Japan|        511|\n",
      "|               China|        495|\n",
      "|               Spain|        473|\n",
      "|  Russian Federation|        467|\n",
      "|United Arab Emirates|        463|\n",
      "|             Ireland|        462|\n",
      "|              Brazil|        406|\n",
      "|Kingdom of the Ne...|        373|\n",
      "|             Austria|        320|\n",
      "|         Switzerland|        304|\n",
      "|         New Zealand|        304|\n",
      "|              Mexico|        295|\n",
      "+--------------------+-----------+\n",
      "only showing top 20 rows\n",
      "\n"
     ]
    },
    {
     "name": "stderr",
     "output_type": "stream",
     "text": [
      "\r",
      "[Stage 2:=============================================>         (167 + 3) / 200]\r",
      "\r",
      "                                                                                \r"
     ]
    }
   ],
   "source": [
    "avia_c.show()"
   ]
  },
  {
   "cell_type": "code",
   "execution_count": 11,
   "id": "34b6829f",
   "metadata": {},
   "outputs": [],
   "source": [
    "avia_t = spark_avia.sql('select icao24, origin_country, velocity, to_timestamp(time_position) from EMP')"
   ]
  },
  {
   "cell_type": "code",
   "execution_count": 13,
   "id": "43539c30",
   "metadata": {},
   "outputs": [
    {
     "name": "stdout",
     "output_type": "stream",
     "text": [
      "+------+--------------+--------+---------------------------+\n",
      "|icao24|origin_country|velocity|to_timestamp(time_position)|\n",
      "+------+--------------+--------+---------------------------+\n",
      "|e49406|        Brazil|  242.57|                       null|\n",
      "|a21b74| United States|   91.51|        2022-05-25 02:28:14|\n",
      "|e8027b|         Chile|  234.62|        2022-05-25 02:29:23|\n",
      "|a5a8e2| United States|  143.06|        2022-05-25 02:32:53|\n",
      "|aa3cbe| United States|    5.66|        2022-05-25 02:32:52|\n",
      "|c822af|   New Zealand|   82.62|        2022-05-25 02:32:52|\n",
      "|ac494e| United States|   55.45|        2022-05-25 02:32:51|\n",
      "|aa56db| United States|  235.94|        2022-05-25 02:32:45|\n",
      "|7c6b2d|     Australia|  213.14|        2022-05-25 02:32:52|\n",
      "|aa56d4| United States|     0.0|        2022-05-25 02:32:48|\n",
      "|0d0c02|        Mexico|   244.5|        2022-05-25 02:32:53|\n",
      "|a3687e| United States|  212.13|        2022-05-25 02:32:52|\n",
      "|a5820f| United States|   32.74|        2022-05-25 02:30:26|\n",
      "|aaef60| United States|  207.08|        2022-05-25 02:32:52|\n",
      "|c822c4|   New Zealand|     0.0|        2022-05-25 02:32:50|\n",
      "|a4b21b| United States|  217.03|        2022-05-25 02:32:52|\n",
      "|ad3c16| United States|  119.35|        2022-05-25 02:32:53|\n",
      "|a665ae| United States|  215.71|        2022-05-25 02:32:51|\n",
      "|c81bd7|   New Zealand|    68.9|        2022-05-25 02:32:52|\n",
      "|c81bd2|   New Zealand|    46.8|        2022-05-25 02:32:51|\n",
      "+------+--------------+--------+---------------------------+\n",
      "only showing top 20 rows\n",
      "\n"
     ]
    }
   ],
   "source": [
    "avia_t.show()"
   ]
  },
  {
   "cell_type": "code",
   "execution_count": 14,
   "id": "9388c4fc",
   "metadata": {},
   "outputs": [
    {
     "name": "stderr",
     "output_type": "stream",
     "text": [
      "                                                                                \r"
     ]
    }
   ],
   "source": [
    "avia_t.coalesce(1).write.csv(\"hdfs:///user/teran45/data/avia/speedtime\")"
   ]
  }
 ],
 "metadata": {
  "kernelspec": {
   "display_name": "Python 3 (ipykernel)",
   "language": "python",
   "name": "python3"
  },
  "language_info": {
   "codemirror_mode": {
    "name": "ipython",
    "version": 3
   },
   "file_extension": ".py",
   "mimetype": "text/x-python",
   "name": "python",
   "nbconvert_exporter": "python",
   "pygments_lexer": "ipython3",
   "version": "3.9.12"
  }
 },
 "nbformat": 4,
 "nbformat_minor": 5
}
