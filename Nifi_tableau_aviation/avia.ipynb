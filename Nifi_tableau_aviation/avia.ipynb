{
 "cells": [
  {
   "cell_type": "code",
   "execution_count": 7,
   "id": "f580da3f",
   "metadata": {},
   "outputs": [],
   "source": [
    "import findspark\n",
    "findspark.init()\n",
    "findspark.find()\n",
    "import pyspark\n",
    "from pyspark.sql import SparkSession\n",
    "from pyspark.sql.types import StructType\n",
    "from pyspark.sql.functions import desc\n",
    "from pyspark.sql.functions import countDistinct"
   ]
  },
  {
   "cell_type": "code",
   "execution_count": 2,
   "id": "0a000770",
   "metadata": {},
   "outputs": [
    {
     "name": "stderr",
     "output_type": "stream",
     "text": [
      "2022-05-26 01:19:16,801 WARN util.NativeCodeLoader: Unable to load native-hadoop library for your platform... using builtin-java classes where applicable\n",
      "Setting default log level to \"WARN\".\n",
      "To adjust logging level use sc.setLogLevel(newLevel). For SparkR, use setLogLevel(newLevel).\n",
      "2022-05-26 01:19:18,609 WARN yarn.Client: Neither spark.yarn.jars nor spark.yarn.archive is set, falling back to uploading libraries under SPARK_HOME.\n"
     ]
    }
   ],
   "source": [
    "spark_avia = SparkSession.builder.master(\"yarn\").appName(\"avia\").config(\"spark.jars\", \"/home/teran45/spark/postgresql-42.3.4.jar\").getOrCreate()"
   ]
  },
  {
   "cell_type": "code",
   "execution_count": 3,
   "id": "032e700e",
   "metadata": {},
   "outputs": [],
   "source": [
    "df = spark_avia.read \\\n",
    "    .format(\"jdbc\") \\\n",
    "    .option(\"url\", \"jdbc:postgresql://localhost:5432/dataengineering\") \\\n",
    "    .option(\"dbtable\", \"public.opensky\") \\\n",
    "    .option(\"user\", \"postgres\") \\\n",
    "    .option(\"password\", \"postgres\") \\\n",
    "    .option(\"driver\", \"org.postgresql.Driver\") \\\n",
    "    .load()"
   ]
  },
  {
   "cell_type": "code",
   "execution_count": 14,
   "id": "2e71685a",
   "metadata": {},
   "outputs": [
    {
     "name": "stdout",
     "output_type": "stream",
     "text": [
      "root\n",
      " |-- id: integer (nullable = true)\n",
      " |-- icao24: string (nullable = true)\n",
      " |-- callsign: string (nullable = true)\n",
      " |-- origin_country: string (nullable = true)\n",
      " |-- time_position: integer (nullable = true)\n",
      " |-- last_contact: integer (nullable = true)\n",
      " |-- longitude: double (nullable = true)\n",
      " |-- latitude: double (nullable = true)\n",
      " |-- baro_altitude: double (nullable = true)\n",
      " |-- on_ground: boolean (nullable = true)\n",
      " |-- velocity: double (nullable = true)\n",
      " |-- true_track: double (nullable = true)\n",
      " |-- vertical_rate: double (nullable = true)\n",
      " |-- sensors: integer (nullable = true)\n",
      " |-- geo_altitude: double (nullable = true)\n",
      " |-- squawk: string (nullable = true)\n",
      " |-- spi: boolean (nullable = true)\n",
      " |-- position_source: integer (nullable = true)\n",
      "\n"
     ]
    }
   ],
   "source": [
    "df.printSchema()"
   ]
  },
  {
   "cell_type": "code",
   "execution_count": 16,
   "id": "539eb2d7",
   "metadata": {},
   "outputs": [],
   "source": [
    "df.createOrReplaceTempView(\"EMP\")"
   ]
  },
  {
   "cell_type": "code",
   "execution_count": 28,
   "id": "a50d4119",
   "metadata": {},
   "outputs": [],
   "source": [
    "avia = spark_avia.sql('select origin_country, count( distinct icao24) as avia_amount from EMP group by origin_country order by avia_amount DESC')"
   ]
  },
  {
   "cell_type": "code",
   "execution_count": 31,
   "id": "bc280275",
   "metadata": {},
   "outputs": [
    {
     "name": "stderr",
     "output_type": "stream",
     "text": [
      "                                                                                \r"
     ]
    }
   ],
   "source": [
    "avia.coalesce(1).write.csv(\"hdfs:///user/teran45/data/avia/country\")"
   ]
  },
  {
   "cell_type": "code",
   "execution_count": 30,
   "id": "283d57b2",
   "metadata": {},
   "outputs": [
    {
     "name": "stderr",
     "output_type": "stream",
     "text": [
      "[Stage 36:==============================================>       (171 + 2) / 200]\r"
     ]
    },
    {
     "name": "stdout",
     "output_type": "stream",
     "text": [
      "+--------------------+-----------+\n",
      "|      origin_country|avia_amount|\n",
      "+--------------------+-----------+\n",
      "|       United States|      15460|\n",
      "|           Australia|       1292|\n",
      "|              Canada|       1094|\n",
      "|             Germany|       1073|\n",
      "|      United Kingdom|        942|\n",
      "|              France|        579|\n",
      "|               India|        568|\n",
      "|              Turkey|        530|\n",
      "|               Japan|        510|\n",
      "|               China|        491|\n",
      "|               Spain|        473|\n",
      "|             Ireland|        462|\n",
      "|  Russian Federation|        462|\n",
      "|United Arab Emirates|        461|\n",
      "|              Brazil|        403|\n",
      "|Kingdom of the Ne...|        373|\n",
      "|             Austria|        320|\n",
      "|         Switzerland|        304|\n",
      "|         New Zealand|        294|\n",
      "|               Malta|        291|\n",
      "+--------------------+-----------+\n",
      "only showing top 20 rows\n",
      "\n"
     ]
    },
    {
     "name": "stderr",
     "output_type": "stream",
     "text": [
      "\r",
      "                                                                                \r"
     ]
    }
   ],
   "source": [
    "avia.show()"
   ]
  }
 ],
 "metadata": {
  "kernelspec": {
   "display_name": "Python 3 (ipykernel)",
   "language": "python",
   "name": "python3"
  },
  "language_info": {
   "codemirror_mode": {
    "name": "ipython",
    "version": 3
   },
   "file_extension": ".py",
   "mimetype": "text/x-python",
   "name": "python",
   "nbconvert_exporter": "python",
   "pygments_lexer": "ipython3",
   "version": "3.9.12"
  }
 },
 "nbformat": 4,
 "nbformat_minor": 5
}
