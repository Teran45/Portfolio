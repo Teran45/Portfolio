{
 "cells": [
  {
   "cell_type": "code",
   "execution_count": 1,
   "id": "40f3e8c4",
   "metadata": {},
   "outputs": [
    {
     "data": {
      "text/plain": [
       "'/home/teran45/spark_hadoop'"
      ]
     },
     "execution_count": 1,
     "metadata": {},
     "output_type": "execute_result"
    }
   ],
   "source": [
    "import findspark\n",
    "findspark.init()\n",
    "findspark.find()"
   ]
  },
  {
   "cell_type": "code",
   "execution_count": 2,
   "id": "c4466d84",
   "metadata": {},
   "outputs": [],
   "source": [
    "import pyspark\n",
    "from pyspark.sql import SparkSession\n",
    "from pyspark.sql.types import StructType"
   ]
  },
  {
   "cell_type": "code",
   "execution_count": 3,
   "id": "c80339aa",
   "metadata": {},
   "outputs": [
    {
     "name": "stderr",
     "output_type": "stream",
     "text": [
      "2022-05-21 19:11:01,189 WARN util.NativeCodeLoader: Unable to load native-hadoop library for your platform... using builtin-java classes where applicable\n",
      "Setting default log level to \"WARN\".\n",
      "To adjust logging level use sc.setLogLevel(newLevel). For SparkR, use setLogLevel(newLevel).\n",
      "2022-05-21 19:11:03,292 WARN yarn.Client: Neither spark.yarn.jars nor spark.yarn.archive is set, falling back to uploading libraries under SPARK_HOME.\n"
     ]
    }
   ],
   "source": [
    "spark_hdfs = SparkSession.builder.master(\"yarn\").appName(\"hdfs_covid\").getOrCreate()"
   ]
  },
  {
   "cell_type": "code",
   "execution_count": 5,
   "id": "49ef11ca",
   "metadata": {
    "scrolled": true
   },
   "outputs": [
    {
     "name": "stderr",
     "output_type": "stream",
     "text": [
      "\r",
      "[Stage 2:>                                                          (0 + 1) / 1]\r"
     ]
    },
    {
     "name": "stdout",
     "output_type": "stream",
     "text": [
      "+---------------------------+-----------+-------------------+-----------+--------------+----------------+----------------------+------------------+--------------------+------------------+--------------------+-------------------------------+------------------+\n",
      "|PEOPLE_POSITIVE_CASES_COUNT|COUNTY_NAME|PROVINCE_STATE_NAME|REPORT_DATE|CONTINENT_NAME|DATA_SOURCE_NAME|PEOPLE_DEATH_NEW_COUNT|COUNTY_FIPS_NUMBER|COUNTRY_ALPHA_3_CODE|COUNTRY_SHORT_NAME|COUNTRY_ALPHA_2_CODE|PEOPLE_POSITIVE_NEW_CASES_COUNT|PEOPLE_DEATH_COUNT|\n",
      "+---------------------------+-----------+-------------------+-----------+--------------+----------------+----------------------+------------------+--------------------+------------------+--------------------+-------------------------------+------------------+\n",
      "|4209                       |Henderson  |Tennessee          |2021-08-21 |America       |New York Times  |0                     |47077             |USA                 |United States     |US                  |0                              |80                |\n",
      "|4209                       |Henderson  |Tennessee          |2021-08-22 |America       |New York Times  |0                     |47077             |USA                 |United States     |US                  |0                              |80                |\n",
      "|4272                       |Henderson  |Tennessee          |2021-08-23 |America       |New York Times  |0                     |47077             |USA                 |United States     |US                  |63                             |80                |\n",
      "|4287                       |Henderson  |Tennessee          |2021-08-24 |America       |New York Times  |0                     |47077             |USA                 |United States     |US                  |15                             |80                |\n",
      "|4287                       |Henderson  |Tennessee          |2021-08-25 |America       |New York Times  |0                     |47077             |USA                 |United States     |US                  |0                              |80                |\n",
      "|4336                       |Henderson  |Tennessee          |2021-08-26 |America       |New York Times  |0                     |47077             |USA                 |United States     |US                  |49                             |80                |\n",
      "|4358                       |Henderson  |Tennessee          |2021-08-27 |America       |New York Times  |0                     |47077             |USA                 |United States     |US                  |22                             |80                |\n",
      "|4358                       |Henderson  |Tennessee          |2021-08-28 |America       |New York Times  |0                     |47077             |USA                 |United States     |US                  |0                              |80                |\n",
      "|4358                       |Henderson  |Tennessee          |2021-08-29 |America       |New York Times  |0                     |47077             |USA                 |United States     |US                  |0                              |80                |\n",
      "|4434                       |Henderson  |Tennessee          |2021-08-30 |America       |New York Times  |0                     |47077             |USA                 |United States     |US                  |76                             |80                |\n",
      "+---------------------------+-----------+-------------------+-----------+--------------+----------------+----------------------+------------------+--------------------+------------------+--------------------+-------------------------------+------------------+\n",
      "only showing top 10 rows\n",
      "\n"
     ]
    },
    {
     "name": "stderr",
     "output_type": "stream",
     "text": [
      "\r",
      "                                                                                \r"
     ]
    }
   ],
   "source": [
    "covid_df = spark_hdfs.read.format(\"csv\").option(\"header\", True).option(\"separator\", \",\").load(\"hdfs:///user/teran45/covid/COVID-19 Activity.csv\")\n",
    "covid_df.show(10, False)"
   ]
  },
  {
   "cell_type": "code",
   "execution_count": 6,
   "id": "87cd746f",
   "metadata": {},
   "outputs": [
    {
     "data": {
      "text/plain": [
       "StructType(List(StructField(PEOPLE_POSITIVE_CASES_COUNT,StringType,true),StructField(COUNTY_NAME,StringType,true),StructField(PROVINCE_STATE_NAME,StringType,true),StructField(REPORT_DATE,StringType,true),StructField(CONTINENT_NAME,StringType,true),StructField(DATA_SOURCE_NAME,StringType,true),StructField(PEOPLE_DEATH_NEW_COUNT,StringType,true),StructField(COUNTY_FIPS_NUMBER,StringType,true),StructField(COUNTRY_ALPHA_3_CODE,StringType,true),StructField(COUNTRY_SHORT_NAME,StringType,true),StructField(COUNTRY_ALPHA_2_CODE,StringType,true),StructField(PEOPLE_POSITIVE_NEW_CASES_COUNT,StringType,true),StructField(PEOPLE_DEATH_COUNT,StringType,true)))"
      ]
     },
     "execution_count": 6,
     "metadata": {},
     "output_type": "execute_result"
    }
   ],
   "source": [
    "covid_df.schema"
   ]
  },
  {
   "cell_type": "code",
   "execution_count": 7,
   "id": "dc9c75c7",
   "metadata": {},
   "outputs": [
    {
     "name": "stderr",
     "output_type": "stream",
     "text": [
      "                                                                                \r"
     ]
    }
   ],
   "source": [
    "covid_df.select(\"COUNTY_NAME\",\"PROVINCE_STATE_NAME\",\"REPORT_DATE\",\"PEOPLE_DEATH_COUNT\").write.format(\"jdbc\").option(\"url\", \"jdbc:postgresql://localhost/spark_labs\") \\\n",
    "    .option(\"driver\", \"org.postgresql.Driver\").option(\"dbtable\", \"covid\") \\\n",
    "    .option(\"user\", \"teran45\").option(\"password\", \"Bodyart56\").save()"
   ]
  },
  {
   "cell_type": "code",
   "execution_count": 8,
   "id": "b463d482",
   "metadata": {},
   "outputs": [],
   "source": [
    "spark_hdfs.stop()"
   ]
  }
 ],
 "metadata": {
  "kernelspec": {
   "display_name": "Python 3 (ipykernel)",
   "language": "python",
   "name": "python3"
  },
  "language_info": {
   "codemirror_mode": {
    "name": "ipython",
    "version": 3
   },
   "file_extension": ".py",
   "mimetype": "text/x-python",
   "name": "python",
   "nbconvert_exporter": "python",
   "pygments_lexer": "ipython3",
   "version": "3.9.12"
  }
 },
 "nbformat": 4,
 "nbformat_minor": 5
}
