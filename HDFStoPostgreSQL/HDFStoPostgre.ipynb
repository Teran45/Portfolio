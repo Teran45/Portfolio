{
 "cells": [
  {
   "cell_type": "code",
   "execution_count": 1,
   "id": "40f3e8c4",
   "metadata": {},
   "outputs": [
    {
     "data": {
      "text/plain": [
       "'/home/teran45/spark_hadoop'"
      ]
     },
     "execution_count": 1,
     "metadata": {},
     "output_type": "execute_result"
    }
   ],
   "source": [
    "import findspark\n",
    "findspark.init()\n",
    "findspark.find()"
   ]
  },
  {
   "cell_type": "code",
   "execution_count": 2,
   "id": "c4466d84",
   "metadata": {},
   "outputs": [],
   "source": [
    "import pyspark\n",
    "from pyspark.sql import SparkSession\n",
    "from pyspark.sql.types import StructType"
   ]
  },
  {
   "cell_type": "code",
   "execution_count": 3,
   "id": "c80339aa",
   "metadata": {},
   "outputs": [
    {
     "name": "stderr",
     "output_type": "stream",
     "text": [
      "2022-05-21 18:17:17,342 WARN util.NativeCodeLoader: Unable to load native-hadoop library for your platform... using builtin-java classes where applicable\n",
      "Setting default log level to \"WARN\".\n",
      "To adjust logging level use sc.setLogLevel(newLevel). For SparkR, use setLogLevel(newLevel).\n",
      "2022-05-21 18:17:19,051 WARN yarn.Client: Neither spark.yarn.jars nor spark.yarn.archive is set, falling back to uploading libraries under SPARK_HOME.\n"
     ]
    }
   ],
   "source": [
    "spark_hdfs = SparkSession.builder.master(\"yarn\").appName(\"hdfs_test\").getOrCreate()"
   ]
  },
  {
   "cell_type": "code",
   "execution_count": 4,
   "id": "49ef11ca",
   "metadata": {
    "scrolled": true
   },
   "outputs": [
    {
     "name": "stderr",
     "output_type": "stream",
     "text": [
      "                                                                                \r"
     ]
    },
    {
     "name": "stdout",
     "output_type": "stream",
     "text": [
      "+--------+------+--------------------------------------------------+------+---+-----------------------+-----------------------+-------+\n",
      "|Survived|Pclass|Name                                              |Sex   |Age|Siblings/Spouses Aboard|Parents/Children Aboard|Fare   |\n",
      "+--------+------+--------------------------------------------------+------+---+-----------------------+-----------------------+-------+\n",
      "|0       |3     |Mr. Owen Harris Braund                            |male  |22 |1                      |0                      |7.25   |\n",
      "|1       |1     |Mrs. John Bradley (Florence Briggs Thayer) Cumings|female|38 |1                      |0                      |71.2833|\n",
      "|1       |3     |Miss. Laina Heikkinen                             |female|26 |0                      |0                      |7.925  |\n",
      "|1       |1     |Mrs. Jacques Heath (Lily May Peel) Futrelle       |female|35 |1                      |0                      |53.1   |\n",
      "|0       |3     |Mr. William Henry Allen                           |male  |35 |0                      |0                      |8.05   |\n",
      "|0       |3     |Mr. James Moran                                   |male  |27 |0                      |0                      |8.4583 |\n",
      "|0       |1     |Mr. Timothy J McCarthy                            |male  |54 |0                      |0                      |51.8625|\n",
      "|0       |3     |Master. Gosta Leonard Palsson                     |male  |2  |3                      |1                      |21.075 |\n",
      "|1       |3     |Mrs. Oscar W (Elisabeth Vilhelmina Berg) Johnson  |female|27 |0                      |2                      |11.1333|\n",
      "|1       |2     |Mrs. Nicholas (Adele Achem) Nasser                |female|14 |1                      |0                      |30.0708|\n",
      "+--------+------+--------------------------------------------------+------+---+-----------------------+-----------------------+-------+\n",
      "only showing top 10 rows\n",
      "\n"
     ]
    }
   ],
   "source": [
    "titanicdf = spark_hdfs.read.format(\"csv\").option(\"header\", True).option(\"separator\", \",\").load(\"hdfs:///user/teran45/data/titanic.csv\")\n",
    "titanicdf.show(10, False)"
   ]
  },
  {
   "cell_type": "code",
   "execution_count": 15,
   "id": "87cd746f",
   "metadata": {},
   "outputs": [],
   "source": []
  },
  {
   "cell_type": "code",
   "execution_count": 5,
   "id": "dc9c75c7",
   "metadata": {},
   "outputs": [
    {
     "name": "stderr",
     "output_type": "stream",
     "text": [
      "                                                                                \r"
     ]
    }
   ],
   "source": [
    "titanicdf.select(\"Name\",\"Sex\",\"Age\").write.format(\"jdbc\").option(\"url\", \"jdbc:postgresql://localhost/spark_labs\") \\\n",
    "    .option(\"driver\", \"org.postgresql.Driver\").option(\"dbtable\", \"titanic\") \\\n",
    "    .option(\"user\", \"teran45\").option(\"password\", \"Bodyart56\").save()"
   ]
  },
  {
   "cell_type": "code",
   "execution_count": 6,
   "id": "b463d482",
   "metadata": {},
   "outputs": [],
   "source": [
    "spark_hdfs.stop()"
   ]
  }
 ],
 "metadata": {
  "kernelspec": {
   "display_name": "Python 3 (ipykernel)",
   "language": "python",
   "name": "python3"
  },
  "language_info": {
   "codemirror_mode": {
    "name": "ipython",
    "version": 3
   },
   "file_extension": ".py",
   "mimetype": "text/x-python",
   "name": "python",
   "nbconvert_exporter": "python",
   "pygments_lexer": "ipython3",
   "version": "3.9.12"
  }
 },
 "nbformat": 4,
 "nbformat_minor": 5
}
